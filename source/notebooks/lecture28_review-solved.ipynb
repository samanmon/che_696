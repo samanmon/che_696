{
 "cells": [
  {
   "cell_type": "markdown",
   "metadata": {},
   "source": [
    "# 28) Course review"
   ]
  },
  {
   "cell_type": "markdown",
   "metadata": {},
   "source": [
    "What is data science?"
   ]
  },
  {
   "cell_type": "raw",
   "metadata": {},
   "source": [
    "Many definitions: one is the synthesis of programming, stats/probability, and domain knowledge to extract knowledge from data (e.g. identify patterns) and communicate the results (where visualization skills come in)."
   ]
  },
  {
   "cell_type": "markdown",
   "metadata": {},
   "source": [
    "Why did you learn about bash and vim?"
   ]
  },
  {
   "cell_type": "raw",
   "metadata": {},
   "source": [
    "Bash is a common shell program especially on supercomputing clusters. It allows you to quickly navigate files, run programs, etc. Vim is a text editing program that you can access from your shell to make quick changes to text (and text-based) files."
   ]
  },
  {
   "cell_type": "markdown",
   "metadata": {},
   "source": [
    "What do the following utilities do?\n",
    "\n",
    "- grep\n",
    "- awk\n",
    "- sed\n",
    "- tail"
   ]
  },
  {
   "cell_type": "raw",
   "metadata": {},
   "source": [
    "grep: searches for PATTERNS in each FILE.  PATTERNS is one or patterns separated by newline characters, and grep prints each line that matches a pattern\n",
    "\n",
    "awk: designed for text processing and typically used as a data extraction and reporting tool\n",
    "\n",
    "sed: stream editor that is used to perform basic text transformations on an input stream (a file or input from a pipeline)\n",
    "\n",
    "tail: prints the end of a file to the standard out (screen)"
   ]
  },
  {
   "cell_type": "markdown",
   "metadata": {},
   "source": [
    "Did you like my running the class from Jupyter notebooks?"
   ]
  },
  {
   "cell_type": "raw",
   "metadata": {},
   "source": [
    "I liked it! Lots of nods yesx"
   ]
  },
  {
   "cell_type": "markdown",
   "metadata": {},
   "source": [
    "What are some benefits of programming in Python?"
   ]
  },
  {
   "cell_type": "raw",
   "metadata": {},
   "source": [
    "Widely used, so there are many libraries available and lots of help on the internet. Its goal is to be compact and readable."
   ]
  },
  {
   "cell_type": "markdown",
   "metadata": {},
   "source": [
    "What is an example of valid Python syntax for a print statement?"
   ]
  },
  {
   "cell_type": "raw",
   "metadata": {},
   "source": [
    "print(\"I've learned so much in this class\")"
   ]
  },
  {
   "cell_type": "markdown",
   "metadata": {},
   "source": [
    "Write a simple Python function using valid syntax."
   ]
  },
  {
   "cell_type": "code",
   "execution_count": 4,
   "metadata": {},
   "outputs": [
    {
     "name": "stdout",
     "output_type": "stream",
     "text": [
      "5.0\n"
     ]
    }
   ],
   "source": [
    "import math\n",
    "\n",
    "def find_hyp(a, b):\n",
    "    c2 = a**2 + b**2\n",
    "    return math.sqrt(c2)\n",
    "\n",
    "result = find_hyp(3, 4)\n",
    "print(result)"
   ]
  },
  {
   "cell_type": "markdown",
   "metadata": {},
   "source": [
    "What are some Python datatypes? Are there any questions about them?"
   ]
  },
  {
   "cell_type": "raw",
   "metadata": {},
   "source": [
    "boolean\n",
    "int\n",
    "float\n",
    "string\n",
    "list\n",
    "tuple\n",
    "dict"
   ]
  },
  {
   "cell_type": "markdown",
   "metadata": {},
   "source": [
    "Are there any remaining questions about indexing and slicing?"
   ]
  },
  {
   "cell_type": "raw",
   "metadata": {},
   "source": [
    "indexing: how to access a particular part of an array, (e.g., a[2, 1])\n",
    "\n",
    "slicing: access a subarray by giving the start:stop:step parameters (e.g. a[2:7:2])"
   ]
  },
  {
   "cell_type": "markdown",
   "metadata": {},
   "source": [
    "Are there any questions about Git and Github?"
   ]
  },
  {
   "cell_type": "raw",
   "metadata": {},
   "source": [
    "git: a version-control system for tracking changes in computer files and coordinating work on those files among multiple people. It is primarily used for source-code management in software development, but it can be used to keep track of changes in any set of files.\n",
    "\n",
    "GitHub: web-based hosting service for version control using Git. It is mostly used for computer code. It offers all of the distributed version control and source code management functionality of Git as well as adding its own features."
   ]
  },
  {
   "cell_type": "markdown",
   "metadata": {},
   "source": [
    "I modify some part of a Git repository (e.g. I edit this ipynb), what is the process for me to get those changes up onto the GitHub repo? How will you get those onto your local computer?"
   ]
  },
  {
   "cell_type": "raw",
   "metadata": {},
   "source": [
    "I need to stage the changes with the `git add` command, then `git push` (if someone else worked on the public repo, I'd have to start with a `git pull` and resolve any conflicts). If you have clone it to your computer, you'll need to run `git pull` to get the changes on  your local computer."
   ]
  },
  {
   "cell_type": "markdown",
   "metadata": {},
   "source": [
    "How can I get a previous repo state with Git?"
   ]
  },
  {
   "cell_type": "raw",
   "metadata": {},
   "source": [
    "git checkout XXXXXX (where XXXXXX is the tag for the previous state you want to get. You `git log` to find them."
   ]
  },
  {
   "cell_type": "markdown",
   "metadata": {},
   "source": [
    "How does Git handle different contributors to the same repo?"
   ]
  },
  {
   "cell_type": "raw",
   "metadata": {},
   "source": [
    "It automatically merges any non-conflicting changes and prompts the user to resolve conflicting changes."
   ]
  },
  {
   "cell_type": "markdown",
   "metadata": {},
   "source": [
    "Why might I want Git to ignore some files, and how do I get Git to ignore them?"
   ]
  },
  {
   "cell_type": "raw",
   "metadata": {},
   "source": [
    "There is not need to add unnecessary files to the repo, such as temporary output or checkpoint files. They can be added to .gitignore, which can be made if one is not already there (as it would be when starting from a cookie-cutter library)."
   ]
  },
  {
   "cell_type": "markdown",
   "metadata": {},
   "source": [
    "What are advantages of using the CookieCutter library and templates?"
   ]
  },
  {
   "cell_type": "raw",
   "metadata": {},
   "source": [
    "It starts a project from a nice base without have to repeat manually making the structure."
   ]
  },
  {
   "cell_type": "markdown",
   "metadata": {},
   "source": [
    "What is an IDE and what are the advantages of using one?"
   ]
  },
  {
   "cell_type": "raw",
   "metadata": {},
   "source": [
    "Integrated development environment: it has built-in functionality to make your programming faster. For example, it will point out unused variables, using variables that have not been assigned, syntax errors, and build-in debugging, coverage, and timing profiling functionality."
   ]
  },
  {
   "cell_type": "markdown",
   "metadata": {},
   "source": [
    "What is the purpose of unit testing? What kinds of errors should you test for? How would I know at a glance that a test didn't actually test anything--in other words, what syntax must be present for a test to actually test something?"
   ]
  },
  {
   "cell_type": "raw",
   "metadata": {},
   "source": [
    "Unit testing is used to validate that each unit of the software performs as designed, and continues to do so as the project evolves. \n",
    "\n",
    "1. *Syntax errors*: often checks that the user typed in a valid argument, and gives a useful error message if such a mistake is caught.\n",
    "\n",
    "2. *Logical errors*: when the algorithm used is not correct (either originally, or error created upon later editing of the code)\n",
    "\n",
    "3. *Unexpected input/edge cases*: e.g. a program is only meant to work with positive values (e.g. a zero is entered and a log will be taken)\n",
    "\n",
    "There needs to a \"self.assertXXX(args)\" where XXX can be Equal, Is, True, False, etc.."
   ]
  },
  {
   "cell_type": "markdown",
   "metadata": {},
   "source": [
    "List three properties of NumPy arrays."
   ]
  },
  {
   "cell_type": "raw",
   "metadata": {},
   "source": [
    "-mutable\n",
    "-all elements must be of the same type\n",
    "-using slicing to make a subset will still point to the original object"
   ]
  },
  {
   "cell_type": "markdown",
   "metadata": {},
   "source": [
    "What does NaN stand for, and what is its type?"
   ]
  },
  {
   "cell_type": "raw",
   "metadata": {},
   "source": [
    "Not a number; float"
   ]
  },
  {
   "cell_type": "markdown",
   "metadata": {},
   "source": [
    "How do you perform matrix multiplication by hand and with NumPy?"
   ]
  },
  {
   "cell_type": "raw",
   "metadata": {},
   "source": [
    "For finding C in the equation AB=C (all matrices), each c_ik is the dot product of the row j of A and the column k of B. Accordingly, the number of rows of A must equal the number of columns of B. \n",
    "\n",
    "np.matmul(d, e)"
   ]
  },
  {
   "cell_type": "markdown",
   "metadata": {},
   "source": [
    "What is the characteristic determinant and what is it used for?"
   ]
  },
  {
   "cell_type": "raw",
   "metadata": {},
   "source": [
    "To solve the eigenvalue problem A x = lambda x, rearrange to (A-lamba)x=0. The characteristic determinate is det(A-lamba)=0 and gives the eigenvalues."
   ]
  },
  {
   "cell_type": "markdown",
   "metadata": {},
   "source": [
    "Describe a Pandas DataFrame--that is, what do you remember about them?"
   ]
  },
  {
   "cell_type": "raw",
   "metadata": {},
   "source": [
    "a rectangular table of data and contains an ordered collection of columns, each of which can be a different value type (numeric, string, boolean, etc.). The DataFrame has both a row and column index; it can be thought of as a dict of Series all sharing the same index."
   ]
  },
  {
   "cell_type": "markdown",
   "metadata": {},
   "source": [
    "What are the main functions of any database?"
   ]
  },
  {
   "cell_type": "raw",
   "metadata": {},
   "source": [
    "CRUD: \n",
    "- **Create:** Add new data.\n",
    "- **Read:** Fetch existing data.\n",
    "- **Update:** Edit existing data.\n",
    "- **Delete:** Remove data."
   ]
  },
  {
   "cell_type": "markdown",
   "metadata": {},
   "source": [
    "What are some suggested guidelines for making \"better\" scientific figures?"
   ]
  },
  {
   "cell_type": "raw",
   "metadata": {},
   "source": [
    "Rule 1: Know Your Audience\n",
    "Rule 2: Identify Your Message\n",
    "Rule 3: Adapt the Figure to the Support Medium\n",
    "Rule 4: Captions Are Not Optional\n",
    "Rule 5: Do Not Trust the Defaults\n",
    "Rule 6: Use Color Effectively\n",
    "Rule 7: Do Not Mislead the Reader\n",
    "Rule 8: Avoid ‘‘Chartjunk’'\n",
    "Rule 9: Message Above Beauty\n",
    "Rule 10: Get the Right Tool"
   ]
  },
  {
   "cell_type": "markdown",
   "metadata": {},
   "source": [
    "Why bother with Seaborn when you already have MatPlotLib?"
   ]
  },
  {
   "cell_type": "raw",
   "metadata": {},
   "source": [
    "Seaborn was made as an update to MatPlotLib; has some additional types of graphs that can be quickly made; works well with DataFrames"
   ]
  },
  {
   "cell_type": "markdown",
   "metadata": {},
   "source": [
    "In the context of ML, what is a feature? A target?"
   ]
  },
  {
   "cell_type": "raw",
   "metadata": {},
   "source": [
    "feature: an individual measurable property or characteristic of a phenomenon being observed\n",
    "target: the output variable; if discussing the training set, it is the training output values"
   ]
  },
  {
   "cell_type": "markdown",
   "metadata": {},
   "source": [
    "What type of ML method is linear regression? PCA?"
   ]
  },
  {
   "cell_type": "raw",
   "metadata": {},
   "source": [
    "linear regression: supervised regression\n",
    "PCA: unsupervised dimensionality reduction"
   ]
  },
  {
   "cell_type": "markdown",
   "metadata": {},
   "source": [
    "What is cross-validation? What is it used for?"
   ]
  },
  {
   "cell_type": "raw",
   "metadata": {},
   "source": [
    "Cross-validation is a technique for evaluating ML models by training several ML models on subsets of the available input data and evaluating them on the complementary subset of the data. Use cross-validation to detect over- or underfitting. It also provides an idea of the accuracy of the model."
   ]
  },
  {
   "cell_type": "markdown",
   "metadata": {},
   "source": [
    "Why would you want to and how can you tune ML model complexity?"
   ]
  },
  {
   "cell_type": "raw",
   "metadata": {},
   "source": [
    "To avoid over- or underfitting."
   ]
  },
  {
   "cell_type": "markdown",
   "metadata": {},
   "source": [
    "How can you check if you are using an optimal amount of training data for your ML model?"
   ]
  },
  {
   "cell_type": "raw",
   "metadata": {},
   "source": [
    "Create a learning curve (training set size vs. model score for both training and validation sets). "
   ]
  },
  {
   "cell_type": "markdown",
   "metadata": {},
   "source": [
    "What kind of ML model is Naive Bayes? What are some assumptions that go into the Naive Bayes models? When do they tend to work well?"
   ]
  },
  {
   "cell_type": "raw",
   "metadata": {},
   "source": [
    "Supervised learning--classifiction.\n",
    "1) features are independent\n",
    "2) We know the underlying probability distributions for our data (e.g. Gaussian distribution)"
   ]
  },
  {
   "cell_type": "markdown",
   "metadata": {},
   "source": [
    "What is the most fun thing you learned in class?"
   ]
  },
  {
   "cell_type": "markdown",
   "metadata": {},
   "source": [
    "### FYI: More resources for individual study!\n",
    "\n",
    "The University of Michigan has an agreement with Coursera that allows UMichigan affliates to take some of its classes for free (looks to be those contributed by UMich faculty). Check out https://www.coursera.org/umich. "
   ]
  }
 ],
 "metadata": {
  "kernelspec": {
   "display_name": "Python 3",
   "language": "python",
   "name": "python3"
  },
  "language_info": {
   "codemirror_mode": {
    "name": "ipython",
    "version": 3
   },
   "file_extension": ".py",
   "mimetype": "text/x-python",
   "name": "python",
   "nbconvert_exporter": "python",
   "pygments_lexer": "ipython3",
   "version": "3.6.6"
  }
 },
 "nbformat": 4,
 "nbformat_minor": 2
}
